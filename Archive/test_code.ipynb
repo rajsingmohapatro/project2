{
 "cells": [
  {
   "cell_type": "code",
   "execution_count": null,
   "id": "92586844-bb1c-4bcb-a425-dae7a8f3c2c2",
   "metadata": {},
   "outputs": [],
   "source": [
    "# Capturing positive and negative groups to look for trends in confidence levels for short vs long sells:\n",
    "\n",
    "neg_group = []\n",
    "neutral_group = []\n",
    "pos_group = []\n",
    "\n",
    "pos_neg_group = results['pos_neg_result']\n",
    "pos_neg_return = results['Return']\n",
    "\n",
    "for result in pos_neg_group:\n",
    "    if result >0:\n",
    "        pos_group.append(result)\n",
    "    elif result == 0:\n",
    "        neutral_group.append(result)\n",
    "    else:\n",
    "        neg_group.append(result)\n",
    "\n",
    "# Work out way to pull in return into above table if result in negative\n",
    "# code here\n",
    "        \n",
    "\n",
    "neg_group = pd.DataFrame(neg_group)\n",
    "neutral_group = pd.DataFrame(neutral_group)\n",
    "pos_group = pd.DataFrame(pos_group)"
   ]
  },
  {
   "cell_type": "code",
   "execution_count": null,
   "id": "64dbe0ee-ad0b-4b66-be1a-7bbc6853b6b0",
   "metadata": {},
   "outputs": [],
   "source": [
    "# Looking at the results by a group (i.e. 5 in this case) and the count and mean return\n",
    "neg_group.rename(columns={0: 'Return'}, inplace=True)\n",
    "neg_group['probability_quantile'] = pd.qcut(neg_group['Return'],5,duplicates='drop')\n",
    "neg_group = neg_group.groupby('probability_quantile').agg(['count','mean'])[['Return']]\n",
    "neg_group"
   ]
  },
  {
   "cell_type": "code",
   "execution_count": null,
   "id": "bba6d86d-3a9a-4829-833e-6cb1a20745b7",
   "metadata": {},
   "outputs": [],
   "source": []
  },
  {
   "cell_type": "code",
   "execution_count": null,
   "id": "0efa4318-13ec-4992-9dc0-84f624fa1004",
   "metadata": {},
   "outputs": [],
   "source": []
  },
  {
   "cell_type": "code",
   "execution_count": null,
   "id": "8114935d-f077-417e-b397-b6f6958a7465",
   "metadata": {},
   "outputs": [],
   "source": []
  },
  {
   "cell_type": "code",
   "execution_count": null,
   "id": "f9078792-dab0-4805-8f15-50059c697f72",
   "metadata": {},
   "outputs": [],
   "source": []
  },
  {
   "cell_type": "code",
   "execution_count": null,
   "id": "eadcb977-39e4-4796-bc7c-e852b220cd25",
   "metadata": {},
   "outputs": [],
   "source": []
  }
 ],
 "metadata": {
  "kernelspec": {
   "display_name": "Python [conda env:algotrading] *",
   "language": "python",
   "name": "conda-env-algotrading-py"
  },
  "language_info": {
   "codemirror_mode": {
    "name": "ipython",
    "version": 3
   },
   "file_extension": ".py",
   "mimetype": "text/x-python",
   "name": "python",
   "nbconvert_exporter": "python",
   "pygments_lexer": "ipython3",
   "version": "3.7.10"
  }
 },
 "nbformat": 4,
 "nbformat_minor": 5
}

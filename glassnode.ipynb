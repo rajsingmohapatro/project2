{
 "cells": [
  {
   "cell_type": "code",
   "execution_count": 1,
   "id": "0af4bc15-e32a-42e4-a8a2-3270e8a62b59",
   "metadata": {},
   "outputs": [],
   "source": [
    "import requests\n",
    "import pandas as pd\n",
    "import time\n",
    "import datetime"
   ]
  },
  {
   "cell_type": "code",
   "execution_count": 20,
   "id": "d6b49418-4355-4aae-9294-70d7fa332dd9",
   "metadata": {},
   "outputs": [],
   "source": [
    "def get_active_addresses(crypto_name,date_from,freq):\n",
    "    timestamp = str(int(time.mktime(datetime.datetime.strptime(date_from, \"%d/%m/%Y\").timetuple())))\n",
    "    query={'a': crypto_name, 'api_key': '1vLaflOwBnwPUOu2gBqhHJdOE6y','s':timestamp,'i':freq,'f':'JSON'}\n",
    "    response = requests.get('https://api.glassnode.com/v1/metrics/addresses/active_count', params=query)\n",
    "    df = pd.read_json(response.text, convert_dates=['t'])\n",
    "    return df"
   ]
  },
  {
   "cell_type": "code",
   "execution_count": 23,
   "id": "6b8a3a89-aea5-4ad8-8138-fa1fdf058105",
   "metadata": {},
   "outputs": [
    {
     "data": {
      "text/html": [
       "<div>\n",
       "<style scoped>\n",
       "    .dataframe tbody tr th:only-of-type {\n",
       "        vertical-align: middle;\n",
       "    }\n",
       "\n",
       "    .dataframe tbody tr th {\n",
       "        vertical-align: top;\n",
       "    }\n",
       "\n",
       "    .dataframe thead th {\n",
       "        text-align: right;\n",
       "    }\n",
       "</style>\n",
       "<table border=\"1\" class=\"dataframe\">\n",
       "  <thead>\n",
       "    <tr style=\"text-align: right;\">\n",
       "      <th></th>\n",
       "      <th>v</th>\n",
       "    </tr>\n",
       "    <tr>\n",
       "      <th>t</th>\n",
       "      <th></th>\n",
       "    </tr>\n",
       "  </thead>\n",
       "  <tbody>\n",
       "    <tr>\n",
       "      <th>2016-12-31</th>\n",
       "      <td>571936</td>\n",
       "    </tr>\n",
       "    <tr>\n",
       "      <th>2017-01-01</th>\n",
       "      <td>463375</td>\n",
       "    </tr>\n",
       "    <tr>\n",
       "      <th>2017-01-02</th>\n",
       "      <td>703943</td>\n",
       "    </tr>\n",
       "    <tr>\n",
       "      <th>2017-01-03</th>\n",
       "      <td>654405</td>\n",
       "    </tr>\n",
       "    <tr>\n",
       "      <th>2017-01-04</th>\n",
       "      <td>696039</td>\n",
       "    </tr>\n",
       "    <tr>\n",
       "      <th>...</th>\n",
       "      <td>...</td>\n",
       "    </tr>\n",
       "    <tr>\n",
       "      <th>2021-07-14</th>\n",
       "      <td>819548</td>\n",
       "    </tr>\n",
       "    <tr>\n",
       "      <th>2021-07-15</th>\n",
       "      <td>833325</td>\n",
       "    </tr>\n",
       "    <tr>\n",
       "      <th>2021-07-16</th>\n",
       "      <td>764274</td>\n",
       "    </tr>\n",
       "    <tr>\n",
       "      <th>2021-07-17</th>\n",
       "      <td>641135</td>\n",
       "    </tr>\n",
       "    <tr>\n",
       "      <th>2021-07-18</th>\n",
       "      <td>639759</td>\n",
       "    </tr>\n",
       "  </tbody>\n",
       "</table>\n",
       "<p>1661 rows × 1 columns</p>\n",
       "</div>"
      ],
      "text/plain": [
       "                 v\n",
       "t                 \n",
       "2016-12-31  571936\n",
       "2017-01-01  463375\n",
       "2017-01-02  703943\n",
       "2017-01-03  654405\n",
       "2017-01-04  696039\n",
       "...            ...\n",
       "2021-07-14  819548\n",
       "2021-07-15  833325\n",
       "2021-07-16  764274\n",
       "2021-07-17  641135\n",
       "2021-07-18  639759\n",
       "\n",
       "[1661 rows x 1 columns]"
      ]
     },
     "execution_count": 23,
     "metadata": {},
     "output_type": "execute_result"
    }
   ],
   "source": [
    "df = get_active_addresses('BTC','01/01/2017','24h')\n",
    "df.index = pd.to_datetime(df['t'],unit='day')\n",
    "df.head()\n",
    "df.drop('t',1)"
   ]
  },
  {
   "cell_type": "code",
   "execution_count": 24,
   "id": "3a3307a7-397a-4efa-9493-2e463704daf9",
   "metadata": {},
   "outputs": [
    {
     "data": {
      "text/plain": [
       "<AxesSubplot:xlabel='t'>"
      ]
     },
     "execution_count": 24,
     "metadata": {},
     "output_type": "execute_result"
    },
    {
     "data": {
      "image/png": "[encoded data removed]",
      "text/plain": [
       "<Figure size 432x288 with 1 Axes>"
      ]
     },
     "metadata": {
      "needs_background": "light"
     },
     "output_type": "display_data"
    }
   ],
   "source": [
    "df.plot()"
   ]
  },
  {
   "cell_type": "code",
   "execution_count": null,
   "id": "838ef104-b982-4543-979d-0024529238a8",
   "metadata": {},
   "outputs": [],
   "source": []
  }
 ],
 "metadata": {
  "kernelspec": {
   "display_name": "Python 3",
   "language": "python",
   "name": "python3"
  },
  "language_info": {
   "codemirror_mode": {
    "name": "ipython",
    "version": 3
   },
   "file_extension": ".py",
   "mimetype": "text/x-python",
   "name": "python",
   "nbconvert_exporter": "python",
   "pygments_lexer": "ipython3",
   "version": "3.7.10"
  }
 },
 "nbformat": 4,
 "nbformat_minor": 5
}
